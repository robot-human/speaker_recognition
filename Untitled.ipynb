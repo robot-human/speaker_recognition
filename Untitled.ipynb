{
 "cells": [
  {
   "cell_type": "code",
   "execution_count": 9,
   "id": "05c8bef7",
   "metadata": {},
   "outputs": [
    {
     "name": "stderr",
     "output_type": "stream",
     "text": [
      "/opt/anaconda3/lib/python3.9/site-packages/pydub/utils.py:170: RuntimeWarning: Couldn't find ffmpeg or avconv - defaulting to ffmpeg, but may not work\n",
      "  warn(\"Couldn't find ffmpeg or avconv - defaulting to ffmpeg, but may not work\", RuntimeWarning)\n"
     ]
    }
   ],
   "source": [
    "import numpy as np\n",
    "import pandas as pd\n",
    "import os\n",
    "import math\n",
    "import seaborn as sns\n",
    "import matplotlib.pyplot as plt\n",
    "%matplotlib inline\n",
    "from scipy.io import wavfile\n",
    "import librosa\n",
    "import soundfile as sf\n",
    "from pydub import AudioSegment\n",
    "from pydub.silence import split_on_silence\n",
    "import IPython.display as ipd\n",
    "from scipy.fftpack import dct"
   ]
  },
  {
   "cell_type": "code",
   "execution_count": 10,
   "id": "066ef38c",
   "metadata": {},
   "outputs": [],
   "source": [
    "def print_properties(s, sr):\n",
    "    print(\"Shape        \",s.shape)\n",
    "    print(\"Type         \",s.dtype)\n",
    "    print(\"Sample rate  \",sr)\n",
    "    print(\"Seconds      \",s.shape[0]/sr)\n",
    "    return None\n",
    "\n",
    "def plot_signal(sig,sr):\n",
    "    t = [i/sr for i in range(len(sig))]\n",
    "    \n",
    "    fig = plt.figure(figsize=(16,9))\n",
    "    plt.subplots_adjust(left=None, bottom=0.01, right=None, top=None, wspace=None, hspace=None)\n",
    "    ax1 = fig.add_subplot(211)\n",
    "    ax1 = sns.lineplot(x=t,y=sig)\n",
    "    ax1.set_title('Time domain')\n",
    "    ax1.set_ylabel('Amplitude')\n",
    "    ax1.set_xlabel('Seconds')\n",
    "    ax1.set_xlim([t[0],t[-1]])\n",
    "    \n",
    "    ax2 = fig.add_subplot(212)\n",
    "    if(len(sig) < 256):\n",
    "        z = np.zeros(int(256 - len(sig)))\n",
    "        sig = np.append(sig, z)\n",
    "    powerSpectrum, freqenciesFound, time, imageAxis = plt.specgram(sig, Fs=sr)\n",
    "    ax2.set_title('Frequency domain')\n",
    "    ax2.set_ylabel('Frequency')\n",
    "    ax2.set_xlabel('Seconds')\n",
    "    return None"
   ]
  },
  {
   "cell_type": "code",
   "execution_count": 5,
   "id": "d940c889",
   "metadata": {},
   "outputs": [],
   "source": [
    "audios_dir = os.listdir(\"./audios/\")\n",
    "audios = []\n",
    "for file in audios_dir:\n",
    "    audios.append(\"./audios/\" + file)"
   ]
  },
  {
   "cell_type": "code",
   "execution_count": 6,
   "id": "956f2a75",
   "metadata": {},
   "outputs": [
    {
     "data": {
      "text/plain": [
       "['./audios/4788-91208-0010.txt',\n",
       " './audios/1183-124566-0003.txt',\n",
       " './audios/3235-28433-0043.txt',\n",
       " './audios/4680-16041-0025.txt']"
      ]
     },
     "execution_count": 6,
     "metadata": {},
     "output_type": "execute_result"
    }
   ],
   "source": [
    "audios"
   ]
  },
  {
   "cell_type": "code",
   "execution_count": 20,
   "id": "dee6545d",
   "metadata": {},
   "outputs": [],
   "source": [
    "f = open(audios[0], \"r\")\n",
    "audio1 = f.read()"
   ]
  },
  {
   "cell_type": "code",
   "execution_count": 19,
   "id": "436cec58",
   "metadata": {},
   "outputs": [
    {
     "name": "stderr",
     "output_type": "stream",
     "text": [
      "/var/folders/g2/q7m6xbpn3j1dp33hfw7s5kbc0000gn/T/ipykernel_7310/3296768196.py:1: DeprecationWarning: The binary mode of fromstring is deprecated, as it behaves surprisingly on unicode inputs. Use frombuffer instead\n",
      "  audio1 = np.fromstring(audio1)\n"
     ]
    },
    {
     "ename": "ValueError",
     "evalue": "string size must be a multiple of element size",
     "output_type": "error",
     "traceback": [
      "\u001b[0;31m---------------------------------------------------------------------------\u001b[0m",
      "\u001b[0;31mValueError\u001b[0m                                Traceback (most recent call last)",
      "\u001b[0;32m/var/folders/g2/q7m6xbpn3j1dp33hfw7s5kbc0000gn/T/ipykernel_7310/3296768196.py\u001b[0m in \u001b[0;36m<module>\u001b[0;34m\u001b[0m\n\u001b[0;32m----> 1\u001b[0;31m \u001b[0maudio1\u001b[0m \u001b[0;34m=\u001b[0m \u001b[0mnp\u001b[0m\u001b[0;34m.\u001b[0m\u001b[0mfromstring\u001b[0m\u001b[0;34m(\u001b[0m\u001b[0maudio1\u001b[0m\u001b[0;34m)\u001b[0m\u001b[0;34m\u001b[0m\u001b[0;34m\u001b[0m\u001b[0m\n\u001b[0m",
      "\u001b[0;31mValueError\u001b[0m: string size must be a multiple of element size"
     ]
    }
   ],
   "source": [
    "audio1 = np.fromstring(audio1)"
   ]
  },
  {
   "cell_type": "code",
   "execution_count": 34,
   "id": "22db8d6c",
   "metadata": {},
   "outputs": [
    {
     "name": "stdout",
     "output_type": "stream",
     "text": [
      "11\n"
     ]
    }
   ],
   "source": [
    "print(len(audio1[1:-1].split(\" \")))"
   ]
  },
  {
   "cell_type": "code",
   "execution_count": 36,
   "id": "076acf52",
   "metadata": {},
   "outputs": [
    {
     "name": "stdout",
     "output_type": "stream",
     "text": [
      "\n",
      "0.00046872\n",
      "\n",
      "0.00082031\n",
      "\n",
      "0.00089854\n",
      "...\n",
      "-0.00026433\n",
      "-0.00050394\n",
      "\n",
      "\n",
      "0.00017415\n"
     ]
    }
   ],
   "source": [
    "for r in audio1[1:-1].split(\" \"):\n",
    "    #if(r != \"\"):\n",
    "        #r = float(r)\n",
    "        #if(r.find(\"\\n\")>=0):\n",
    "    print(r)"
   ]
  },
  {
   "cell_type": "code",
   "execution_count": null,
   "id": "ee4a95a4",
   "metadata": {},
   "outputs": [],
   "source": []
  }
 ],
 "metadata": {
  "kernelspec": {
   "display_name": "Python 3 (ipykernel)",
   "language": "python",
   "name": "python3"
  },
  "language_info": {
   "codemirror_mode": {
    "name": "ipython",
    "version": 3
   },
   "file_extension": ".py",
   "mimetype": "text/x-python",
   "name": "python",
   "nbconvert_exporter": "python",
   "pygments_lexer": "ipython3",
   "version": "3.9.7"
  }
 },
 "nbformat": 4,
 "nbformat_minor": 5
}
